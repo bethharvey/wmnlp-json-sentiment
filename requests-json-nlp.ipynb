{
 "cells": [
  {
   "cell_type": "markdown",
   "metadata": {},
   "source": [
    "# Web Mining and Applied NLP (44-620)\n",
    "\n",
    "## Requests, JSON, and NLP\n",
    "\n",
    "### Student Name: Beth Harvey\n",
    "\n",
    "Perform the tasks described in the Markdown cells below.  When you have completed the assignment make sure your code cells have all been run (and have output beneath them) and ensure you have committed and pushed ALL of your changes to your assignment repository.\n",
    "\n",
    "Make sure you have [installed spaCy and its pipeline](https://spacy.io/usage#quickstart) and [spaCyTextBlob](https://spacy.io/universe/project/spacy-textblob)\n",
    "\n",
    "Every question that requires you to write code will have a code cell underneath it; you may either write your entire solution in that cell or write it in a python file (`.py`), then import and run the appropriate code to answer the question.\n",
    "\n",
    "This assignment requires that you write additional files (either JSON or pickle files); make sure to submit those files in your repository as well."
   ]
  },
  {
   "cell_type": "code",
   "execution_count": null,
   "metadata": {},
   "outputs": [
    {
     "name": "stdout",
     "output_type": "stream",
     "text": [
      "All prereqs installed.\n",
      "Package            Version\n",
      "------------------ --------\n",
      "appnope            0.1.3\n",
      "asttokens          2.2.1\n",
      "backcall           0.2.0\n",
      "beautifulsoup4     4.12.2\n",
      "blis               0.7.9\n",
      "catalogue          2.0.8\n",
      "certifi            2023.5.7\n",
      "charset-normalizer 3.2.0\n",
      "click              8.1.5\n",
      "comm               0.1.3\n",
      "confection         0.1.0\n",
      "cymem              2.0.7\n",
      "debugpy            1.6.7\n",
      "decorator          5.1.1\n",
      "en-core-web-sm     3.6.0\n",
      "executing          1.2.0\n",
      "idna               3.4\n",
      "importlib-metadata 6.8.0\n",
      "ipykernel          6.24.0\n",
      "ipython            8.14.0\n",
      "jedi               0.18.2\n",
      "Jinja2             3.1.2\n",
      "joblib             1.3.1\n",
      "jupyter_client     8.3.0\n",
      "jupyter_core       5.3.1\n",
      "langcodes          3.3.0\n",
      "lyricsgenius       3.0.1\n",
      "MarkupSafe         2.1.3\n",
      "matplotlib-inline  0.1.6\n",
      "murmurhash         1.0.9\n",
      "nest-asyncio       1.5.6\n",
      "nltk               3.8.1\n",
      "numpy              1.25.1\n",
      "packaging          23.1\n",
      "parso              0.8.3\n",
      "pathy              0.10.2\n",
      "pexpect            4.8.0\n",
      "pickleshare        0.7.5\n",
      "pip                23.2\n",
      "platformdirs       3.9.1\n",
      "preshed            3.0.8\n",
      "prompt-toolkit     3.0.39\n",
      "psutil             5.9.5\n",
      "ptyprocess         0.7.0\n",
      "pure-eval          0.2.2\n",
      "pydantic           1.10.11\n",
      "Pygments           2.15.1\n",
      "python-dateutil    2.8.2\n",
      "pyzmq              25.1.0\n",
      "regex              2023.6.3\n",
      "requests           2.31.0\n",
      "setuptools         58.1.0\n",
      "six                1.16.0\n",
      "smart-open         6.3.0\n",
      "soupsieve          2.4.1\n",
      "spacy              3.6.0\n",
      "spacy-legacy       3.0.12\n",
      "spacy-loggers      1.0.4\n",
      "spacytextblob      4.0.0\n",
      "srsly              2.4.6\n",
      "stack-data         0.6.2\n",
      "textblob           0.15.3\n",
      "thinc              8.1.10\n",
      "tornado            6.3.2\n",
      "tqdm               4.65.0\n",
      "traitlets          5.9.0\n",
      "typer              0.9.0\n",
      "typing_extensions  4.7.1\n",
      "urllib3            2.0.3\n",
      "wasabi             1.1.2\n",
      "wcwidth            0.2.6\n",
      "zipp               3.16.2\n"
     ]
    }
   ],
   "source": [
    "# Create and activate a Python virtual environment. \n",
    "# Before starting the project, try all these imports FIRST\n",
    "# Address any errors you get running this code cell \n",
    "# by installing the necessary packages into your active Python environment.\n",
    "# Try to resolve issues using your materials and the web.\n",
    "# If that doesn't work, ask for help in the discussion forums.\n",
    "# You can't complete the exercises until you import these - start early! \n",
    "# We also import json and pickle (included in the Python Standard Library).\n",
    "\n",
    "import json\n",
    "import pickle\n",
    "\n",
    "import requests\n",
    "import spacy\n",
    "from spacytextblob.spacytextblob import SpacyTextBlob\n",
    "\n",
    "print('All prereqs installed.')\n",
    "!pip list\n"
   ]
  },
  {
   "cell_type": "markdown",
   "metadata": {},
   "source": [
    "### Question 1. \n",
    "The following code accesses the [lyrics.ovh](https://lyricsovh.docs.apiary.io/#reference/0/lyrics-of-a-song/search) public api, searches for the lyrics of a song, and stores it in a dictionary object.  Write the resulting json to a file (either a JSON file or a pickle file; you choose). You will read in the contents of this file for future questions so we do not need to frequently access the API."
   ]
  },
  {
   "cell_type": "code",
   "execution_count": 4,
   "metadata": {},
   "outputs": [
    {
     "name": "stdout",
     "output_type": "stream",
     "text": [
      "Searching for songs by They Might Be Giants...\n",
      "\n",
      "Song 1: \"200 Sbemails (for Homestar Runner)\"\n",
      "Song 2: \"2082\"\n",
      "Song 3: \"25 O’Clock\"\n",
      "\n",
      "Reached user-specified song limit (3).\n",
      "Done. Found 3 songs.\n"
     ]
    }
   ],
   "source": [
    "import requests\n",
    "import json\n",
    "\n",
    "#result = json.loads(requests.get('https://api.lyrics.ovh/v1/They Might Be Giants/Birdhouse in your soul').text)\n",
    "\n",
    "import lyricsgenius\n",
    "# Create lyricsgenius object\n",
    "with open('genius_token.txt', 'r') as token_file:\n",
    "    token = token_file.readline()\n",
    "\n",
    "genius = lyricsgenius.Genius(token)\n",
    "\n",
    "# Find artist\n",
    "artist = genius.search_artist(\"They Might Be Giants\", max_songs=3, sort=\"title\")\n",
    "\n",
    "# # Get song\n",
    "song = artist.song('Birdhouse in your soul')\n",
    "\n",
    "# # Save lyrics\n",
    "lyrics = song.lyrics\n",
    "\n",
    "# # Create dictionary of song info\n",
    "song_dict = {\n",
    "    'artist': 'They Might Be Giants',\n",
    "    'title': 'Birdhouse in your soul',\n",
    "    'song_lyrics': lyrics\n",
    "# }\n",
    "\n",
    "with open('birdhouse_lyrics.json', 'w') as new_file:\n",
    "    json.dump(song_dict, new_file)"
   ]
  },
  {
   "cell_type": "markdown",
   "metadata": {},
   "source": [
    "### Question 2. \n",
    "Read in the contents of your file.  Print the lyrics of the song (not the entire dictionary!) and use spaCyTextBlob to perform sentiment analysis on the lyrics.  Print the polarity score of the sentiment analysis.  Given that the range of the polarity score is `[-1.0,1.0]` which corresponds to how positive or negative the text in question is, do you think the lyrics have a more positive or negative connotaion?  Answer this question in a comment in your code cell."
   ]
  },
  {
   "cell_type": "code",
   "execution_count": 4,
   "metadata": {},
   "outputs": [
    {
     "name": "stdout",
     "output_type": "stream",
     "text": [
      "52 ContributorsBirdhouse in Your Soul Lyrics[Bridge]\n",
      "I'm your only friend\n",
      "I'm not your only friend\n",
      "But I'm a little glowing friend\n",
      "But really I'm not actually your friend\n",
      "But I am\n",
      "\n",
      "[Chorus]\n",
      "Blue canary in the outlet by the light switch\n",
      "Who watches over you\n",
      "Make a little birdhouse in your soul\n",
      "Not to put too fine a point on it\n",
      "Say I'm the only bee in your bonnet\n",
      "Make a little birdhouse in your soul\n",
      "\n",
      "[Verse 1]\n",
      "I have a secret to tell\n",
      "From my electrical well\n",
      "It's a simple message and I'm\n",
      "Leaving out the whistles and bells\n",
      "So the room must listen to me\n",
      "Filibuster vigilantly\n",
      "My name is blue canary\n",
      "One note spelled l-i-t-e\n",
      "My story's infinite\n",
      "Like the Longines Symphonette\n",
      "It doesn't rest\n",
      "See They Might Be Giants LiveGet tickets as low as $61You might also like[Chorus]\n",
      "Blue canary in the outlet by the light switch\n",
      "Who watches over you\n",
      "Make a little birdhouse in your soul\n",
      "Not to put too fine a point on it\n",
      "Say I'm the only bee in your bonnet\n",
      "Make a little birdhouse in your soul\n",
      "\n",
      "[Bridge]\n",
      "I'm your only friend\n",
      "I'm not your only friend\n",
      "But I'm a little glowing friend\n",
      "But really I'm not actually your friend\n",
      "But I am\n",
      "\n",
      "[Verse 2]\n",
      "There's a picture opposite me\n",
      "Of my primitive ancestry\n",
      "Which stood on rocky shores\n",
      "And kept the beaches shipwreck-free\n",
      "Though I respect that a lot\n",
      "I'd be fired if that were my job\n",
      "After killing Jason off\n",
      "And countless screaming Argonauts\n",
      "Blue bird of friendliness\n",
      "Like guardian angels it's\n",
      "Always near\n",
      "[Chorus 2]\n",
      "Blue canary in the outlet by the light switch\n",
      "Who watches over you\n",
      "Make a little birdhouse in your soul\n",
      "Not to put too fine a point on it\n",
      "Say I'm the only bee in your bonnet\n",
      "Make a little birdhouse in your soul\n",
      "While you're at it\n",
      "Keep the nightlight on inside\n",
      "The birdhouse in your soul\n",
      "Not to put too fine a point on it\n",
      "Say I'm the only bee in your bonnet\n",
      "Make a little birdhouse in your soul\n",
      "While you're at it\n",
      "Keep the nightlight on inside\n",
      "The birdhouse in your soul\n",
      "(Blue canary in the outlet by the light switch\n",
      "Who watches over you\n",
      "Make a little birdhouse in your soul)\n",
      "Make a little birdhouse in your soul\n",
      "While you're at it\n",
      "Keep the nightlight on inside\n",
      "The birdhouse in your soul\n",
      "Not to put too fine a point on it\n",
      "Say I'm the only bee in your bonnet\n",
      "Make a little birdhouse in your soul19Embed\n"
     ]
    }
   ],
   "source": [
    "# Read file\n",
    "with open ('birdhouse_lyrics.json', 'r') as file:\n",
    "    dictionary = json.load(file)\n",
    "\n",
    "# Print lyrics\n",
    "print(dictionary['song_lyrics'])"
   ]
  },
  {
   "cell_type": "code",
   "execution_count": 53,
   "metadata": {},
   "outputs": [
    {
     "name": "stdout",
     "output_type": "stream",
     "text": [
      "Polarity Score:  0.02575757575757576\n"
     ]
    },
    {
     "data": {
      "text/plain": [
       "\"\\nThe polarity score is barely over zero, indicating that the lyrics have a very slight positive connotation. However, it's close\\nenough to zero that I would consider the lyrics neutral overall. As I read through the lyrics myself, this makes sense to me\\nbecause it's difficult to tell what the song is about without more context. There isn't anything blatantly positive or negative\\nin the lyrics at first glance.\""
      ]
     },
     "execution_count": 53,
     "metadata": {},
     "output_type": "execute_result"
    }
   ],
   "source": [
    "import spacy\n",
    "from spacytextblob.spacytextblob import SpacyTextBlob\n",
    "\n",
    "# Load pipeline package\n",
    "nlp = spacy.load('en_core_web_lg')\n",
    "\n",
    "# Add Spacy Text Blob to pipeline\n",
    "nlp.add_pipe('spacytextblob')\n",
    "\n",
    "# Save lyrics as variable\n",
    "text = dictionary['song_lyrics']\n",
    "\n",
    "# Apply sentiment analysis to text\n",
    "doc = nlp(text)\n",
    "\n",
    "print('Polarity Score: ', doc._.blob.polarity)\n",
    "\n",
    "\"\"\"\n",
    "The polarity score is barely over zero, indicating that the lyrics have a very slight positive connotation. However, it's close\n",
    "enough to zero that I would consider the lyrics neutral overall. As I read through the lyrics myself, this makes sense to me\n",
    "because it's difficult to tell what the song is about without more context. There isn't anything blatantly positive or negative\n",
    "in the lyrics at first glance.\"\"\""
   ]
  },
  {
   "cell_type": "markdown",
   "metadata": {},
   "source": [
    "### Question 3. \n",
    "Write a function that takes an artist, song, and filename, accesses the lyrics.ovh api to get the song lyrics, and writes the results to the specified filename.  Test this function by getting the lyrics to any four songs of your choice and storing them in different files."
   ]
  },
  {
   "cell_type": "code",
   "execution_count": 25,
   "metadata": {},
   "outputs": [],
   "source": [
    "# Define Function\n",
    "def write_song_from_api_to_json(artist, song, filename):\n",
    "    # Look up song details\n",
    "    song_details = genius.search_song(song, artist)\n",
    "    # Save song lyrics\n",
    "    song_lyrics = song_details.lyrics\n",
    "    # Write lyrics to file\n",
    "    with open(filename, 'w') as file:\n",
    "        json.dump(song_lyrics, file)"
   ]
  },
  {
   "cell_type": "code",
   "execution_count": 26,
   "metadata": {},
   "outputs": [
    {
     "name": "stdout",
     "output_type": "stream",
     "text": [
      "Searching for \"Canonballers\" by Colony House...\n",
      "Done.\n"
     ]
    }
   ],
   "source": [
    "# Test function 1\n",
    "write_song_from_api_to_json('Colony House', 'Canonballers', 'canonballers_lyrics.json')"
   ]
  },
  {
   "cell_type": "code",
   "execution_count": 27,
   "metadata": {},
   "outputs": [
    {
     "name": "stdout",
     "output_type": "stream",
     "text": [
      "Searching for \"Way Less Sad\" by AJR...\n",
      "Done.\n"
     ]
    }
   ],
   "source": [
    "# Test function 2\n",
    "write_song_from_api_to_json('AJR', 'Way Less Sad', 'way_less_sad_lyrics.json')"
   ]
  },
  {
   "cell_type": "code",
   "execution_count": 62,
   "metadata": {},
   "outputs": [
    {
     "name": "stdout",
     "output_type": "stream",
     "text": [
      "Searching for \"Thunderstruck\" by Owl City...\n",
      "Done.\n"
     ]
    }
   ],
   "source": [
    "# Test function 3\n",
    "write_song_from_api_to_json('Owl City', 'Thunderstruck', 'thunderstruck_lyrics.json')"
   ]
  },
  {
   "cell_type": "code",
   "execution_count": 24,
   "metadata": {},
   "outputs": [
    {
     "name": "stdout",
     "output_type": "stream",
     "text": [
      "Searching for \"In Love With A Camera\" by The Struts...\n",
      "Done.\n"
     ]
    }
   ],
   "source": [
    "# Test function 4\n",
    "write_song_from_api_to_json('The Struts', 'In Love With A Camera', 'in_love_with_a_camera_lyrics.json')"
   ]
  },
  {
   "cell_type": "markdown",
   "metadata": {},
   "source": [
    "### Question 4. \n",
    "Write a function that takes the name of a file that contains song lyrics, loads the file, performs sentiment analysis, and returns the polarity score.  Use this function to print the polarity scores (with the name of the song) of the three files you created in question 3.  Does the reported polarity match your understanding of the song's lyrics? Why or why not do you think that might be?  Answer the questions in either a comment in the code cell or a markdown cell under the code cell."
   ]
  },
  {
   "cell_type": "code",
   "execution_count": 55,
   "metadata": {},
   "outputs": [],
   "source": [
    "# Define function\n",
    "def lyrics_sentiment_analysis(filename, songname):\n",
    "    # Read lyric file\n",
    "    with open(filename, 'r') as file:\n",
    "        song_lyrics = json.load(file)\n",
    "    # Create spacy sentiment object\n",
    "    nlp = spacy.load('en_core_web_lg')\n",
    "    # Add spacy text blob to pipeline\n",
    "    nlp.add_pipe('spacytextblob')\n",
    "    # Apply sentiment analysis to lyrics\n",
    "    sentiment_analysis = nlp(song_lyrics)\n",
    "    # Get polarity score\n",
    "    polarity_score = sentiment_analysis._.blob.polarity\n",
    "    return songname, polarity_score"
   ]
  },
  {
   "cell_type": "code",
   "execution_count": 56,
   "metadata": {},
   "outputs": [
    {
     "name": "stdout",
     "output_type": "stream",
     "text": [
      "Title:  Canonballers \n",
      " Polarity Score:  -0.3080469794755509\n"
     ]
    }
   ],
   "source": [
    "# Test function 1\n",
    "score_1 = lyrics_sentiment_analysis('canonballers_lyrics.json', 'Canonballers')\n",
    "print('Title: ', score_1[0], '\\n', 'Polarity Score: ', score_1[1])"
   ]
  },
  {
   "cell_type": "markdown",
   "metadata": {},
   "source": [
    "I'm surprised that this song has a negative polarity score. To me, it sounds like an upbeat, summer/road trip type song. I assume the score is low because one of the repeated phrases in the chorus uses the phrase \"can't borrow time,\" which on its own sounds regretful or sad."
   ]
  },
  {
   "cell_type": "code",
   "execution_count": 57,
   "metadata": {},
   "outputs": [
    {
     "name": "stdout",
     "output_type": "stream",
     "text": [
      "Title:  Way Less Sad \n",
      " Polarity Score:  -0.026028869778869767\n"
     ]
    }
   ],
   "source": [
    "# Test function 2\n",
    "score_2 = lyrics_sentiment_analysis('way_less_sad_lyrics.json', 'Way Less Sad')\n",
    "print('Title: ', score_2[0], '\\n', 'Polarity Score: ', score_2[1])"
   ]
  },
  {
   "cell_type": "markdown",
   "metadata": {},
   "source": [
    "While I consider this song fun, I'm not surprised that the score is negative. The overall feel of the song is upbeat, but the lyrics still sound a little negative. As the title, Way Less Sad, implies, it's about starting to feel better after feeling sad or depressed for an extended period of time. Part of the chorus is the phrase \"I'm not happy yet, but I'm way less sad.\" It's a hopeful, but realistic message that someone's mood doesn't turn around immediately, but progress is still good. Also, the score is still close to 0, which indicates that it's not that negative."
   ]
  },
  {
   "cell_type": "code",
   "execution_count": 63,
   "metadata": {},
   "outputs": [
    {
     "name": "stdout",
     "output_type": "stream",
     "text": [
      "Title:  Thunderstruck \n",
      " Polarity Score:  -0.0030864197530864226\n"
     ]
    }
   ],
   "source": [
    "# Test function 3\n",
    "score_3 = lyrics_sentiment_analysis('thunderstruck_lyrics.json', 'Thunderstruck')\n",
    "print('Title: ', score_3[0], '\\n', 'Polarity Score: ', score_3[1])"
   ]
  },
  {
   "cell_type": "markdown",
   "metadata": {},
   "source": [
    "The score for this song is very close to 0, which is surprising to me, since it seems like either a love song or at least a song about feeling very strongly about someone. My only guess is the repeated use of the phrase \"my dreams are shattered\" may have lowered the score. I definitely would have guessed the score would have been higher than this."
   ]
  },
  {
   "cell_type": "code",
   "execution_count": 59,
   "metadata": {},
   "outputs": [
    {
     "name": "stdout",
     "output_type": "stream",
     "text": [
      "Title:  In Love With A Camera \n",
      " Polarity Score:  0.4342857142857143\n"
     ]
    }
   ],
   "source": [
    "# Test function 4\n",
    "score_4 = lyrics_sentiment_analysis('in_love_with_a_camera_lyrics.json', 'In Love With A Camera')\n",
    "print('Title: ', score_4[0], '\\n', 'Polarity Score: ', score_4[1])"
   ]
  },
  {
   "cell_type": "markdown",
   "metadata": {},
   "source": [
    "The score for this song makes sense to me. It's an upbeat song about someone loving the camera/taking pictures of themselves. It's not portrayed in a negative or self-obsessed way, it's more like someone is talking about a trait of someone they care about. It's a fun song (in my opinion) with positive lyrics, and I think that's reflected accurately by this score."
   ]
  },
  {
   "cell_type": "code",
   "execution_count": 64,
   "metadata": {},
   "outputs": [
    {
     "name": "stdout",
     "output_type": "stream",
     "text": [
      "[NbConvertApp] WARNING | Config option `kernel_spec_manager_class` not recognized by `NbConvertApp`.\n",
      "[NbConvertApp] Converting notebook requests-json-nlp.ipynb to html\n",
      "[NbConvertApp] Writing 615249 bytes to requests-json-nlp.html\n"
     ]
    }
   ],
   "source": [
    "!jupyter nbconvert --to html requests-json-nlp.ipynb"
   ]
  }
 ],
 "metadata": {
  "kernelspec": {
   "display_name": "Python 3",
   "language": "python",
   "name": "python3"
  },
  "language_info": {
   "codemirror_mode": {
    "name": "ipython",
    "version": 3
   },
   "file_extension": ".py",
   "mimetype": "text/x-python",
   "name": "python",
   "nbconvert_exporter": "python",
   "pygments_lexer": "ipython3",
   "version": "3.9.12"
  }
 },
 "nbformat": 4,
 "nbformat_minor": 4
}
